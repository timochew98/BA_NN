{
 "cells": [
  {
   "cell_type": "code",
   "execution_count": 1,
   "id": "079b2dc8",
   "metadata": {},
   "outputs": [],
   "source": [
    "import sys\n",
    "sys.path.append(\"..\")\n",
    "\n",
    "import numpy as np\n",
    "from matplotlib import pyplot as plt\n",
    "\n",
    "from amgqcd.linear_solver.cg import *\n",
    "\n",
    "from amgqcd.multigrid.two_grid import TwoGridQCD, TwoGridBase\n",
    "from amgqcd.multigrid.three_grid import ThreeGridQCD\n",
    "from amgqcd.dirac.D_sparse import *\n",
    "\n",
    "# from amgqcd.dirac.D_sparse_csr import *\n",
    "# from amgqcd.dirac.D_sparse2 import CalculatorD2 \n",
    "\n",
    "from load_correct_indices import *\n",
    "from helper_functions import solve_with_different_precisions\n",
    "\n",
    "#fixed!!\n",
    "\n",
    "from scipy.sparse.linalg import LinearOperator"
   ]
  },
  {
   "cell_type": "markdown",
   "id": "eceda4fe",
   "metadata": {},
   "source": [
    "# Loading my code (You do not need to understand this, you can also just ask me)"
   ]
  },
  {
   "cell_type": "code",
   "execution_count": 2,
   "id": "3df3751f",
   "metadata": {},
   "outputs": [],
   "source": [
    "# Load previously generated configurations\n",
    "\n",
    "Nx = 128\n",
    "Nt = 128\n",
    "lattice_volume = Nt*Nx\n",
    "Nc = 1\n",
    "Ns = 2\n",
    "nDim = 2\n",
    "gauge_links_array = np.load(\"configurations/ym_su1_beta6_{}.npy\".format(Nt)).reshape(100,Nt*Nx, nDim, Nc,Nc)\n",
    "\n",
    "# Choose one of the generated gauge field\n",
    "gauge_links = gauge_links_array[0]\n",
    "\n",
    "\n",
    "# Choose fermion mass\n",
    "m = -0.066\n",
    "\n",
    "\n",
    "# Start Timoteo's Multigrid implementation\n",
    "mg = TwoGridQCD(gauge_links, Nt, Nx,Nc,Ns)\n",
    "mg.update_m(m)\n",
    "\n"
   ]
  },
  {
   "cell_type": "markdown",
   "id": "e2e650d8",
   "metadata": {},
   "source": [
    "# An example of a preconditioner: Multigrid preconditioner (you do not need to understand this deeply)"
   ]
  },
  {
   "cell_type": "markdown",
   "id": "76da1eae",
   "metadata": {},
   "source": [
    "## The matrix from this example"
   ]
  },
  {
   "cell_type": "code",
   "execution_count": 3,
   "id": "c7a5e615",
   "metadata": {},
   "outputs": [],
   "source": [
    "A = mg.A.copy() # The matrix that needs to be inverted\n",
    "\n",
    "np.random.seed(0)\n",
    "b = np.random.randn(Nt*Nx*Ns) + 1j*np.random.randn(Nt*Nx*Ns) # A random vector as the RHS of the linear equation"
   ]
  },
  {
   "cell_type": "markdown",
   "id": "aa15ccf0",
   "metadata": {},
   "source": [
    "## Prepare multigrid algorithm (Irrelevant for you)"
   ]
  },
  {
   "cell_type": "code",
   "execution_count": 4,
   "id": "b1d5163a",
   "metadata": {},
   "outputs": [],
   "source": [
    "mg.run_setup_phase(\"standard\", initial_relax = False, numRelax = 300) \n",
    "mg.create_operators(mg.B) # This uses the near nullspace to construct the multigrid method"
   ]
  },
  {
   "cell_type": "markdown",
   "id": "3db3de15",
   "metadata": {},
   "source": [
    "## One interation of the multigrid method by itself"
   ]
  },
  {
   "cell_type": "code",
   "execution_count": 5,
   "id": "52e96f5b",
   "metadata": {},
   "outputs": [
    {
     "name": "stdout",
     "output_type": "stream",
     "text": [
      "1127.7700854908637\n",
      "176.03995027529442\n"
     ]
    }
   ],
   "source": [
    "np.random.seed(0)\n",
    "x = np.random.randn(A.shape[0]).astype(A.dtype)\n",
    "x0 = x.copy()  # Initial Guess\n",
    "\n",
    "x = mg.solve(b, x = x)\n",
    "\n",
    "initial_residue = np.linalg.norm(b - A.dot(x0))  # Measure the quality of the initial guess\n",
    "residue_after_one_mg = np.linalg.norm(b - A.dot(x)) # Measure how close you are from the correct solution\n",
    "\n",
    "print(initial_residue)\n",
    "print(residue_after_one_mg)"
   ]
  },
  {
   "cell_type": "markdown",
   "id": "dc85e53e",
   "metadata": {},
   "source": [
    "mg.solve(b) approximates an inversion of A, so it reduces the residue by one order of magnitude. If you use this as a preconditioner for the CG algorithm below, then it can solve the linear equation with considerably fewer iterations"
   ]
  },
  {
   "cell_type": "code",
   "execution_count": 6,
   "id": "92139e9a",
   "metadata": {},
   "outputs": [],
   "source": [
    "# This allows to use the MG as a preconditioner using solvers from scipy like the conjugate gradient (CG) algorithm\n",
    "def start_preconditioner(A, mg):\n",
    "    # Parameters for LinearOperator\n",
    "    shape = A.shape\n",
    "    dtype = A.dtype\n",
    "\n",
    "    def matvec(b):\n",
    "        # A function which approximately calculates A**{-1}*b\n",
    "        return mg.solve(b)\n",
    "    \n",
    "    # LinearOperator is a class of scipy to make your approximate solver a preconditioner\n",
    "    return LinearOperator(shape, matvec, dtype=dtype)\n",
    "\n",
    "M = start_preconditioner(A, mg)"
   ]
  },
  {
   "cell_type": "markdown",
   "id": "da1c8da6",
   "metadata": {},
   "source": [
    "#### Use the MG preconditioner to solve a linear equation with less iterations"
   ]
  },
  {
   "cell_type": "code",
   "execution_count": 7,
   "id": "fdef7bb0",
   "metadata": {},
   "outputs": [
    {
     "name": "stdout",
     "output_type": "stream",
     "text": [
      "1.4556965531732448e-10\n",
      "47\n"
     ]
    }
   ],
   "source": [
    "x, numIter = cg(A,b, M = M, rtol = 1e-12) # M = M to use the preconditioner defined above\n",
    "print(np.linalg.norm(A.dot(x) - b)) # Calculate the residual to check if the equation was solved correctly\n",
    "print(numIter) # If a good near nullspace B was calculated, it should reduce the number of iterations considerably"
   ]
  },
  {
   "cell_type": "markdown",
   "id": "a7cd5dcc",
   "metadata": {},
   "source": [
    "#### Compare the calculation without preconditioner "
   ]
  },
  {
   "cell_type": "code",
   "execution_count": 8,
   "id": "919d6e34",
   "metadata": {},
   "outputs": [
    {
     "name": "stdout",
     "output_type": "stream",
     "text": [
      "6.186981003510558e-10\n",
      "3689\n"
     ]
    }
   ],
   "source": [
    "x, numIter = cg(A,b, rtol = 1e-12)\n",
    "print(np.linalg.norm(A.dot(x) - b))\n",
    "print(numIter)"
   ]
  },
  {
   "cell_type": "markdown",
   "id": "759e07f1",
   "metadata": {},
   "source": [
    "The preconditioned matrix has much better distribution of eigenvalues, leading the a more stable convergence"
   ]
  },
  {
   "cell_type": "code",
   "execution_count": null,
   "id": "5ce45a2d",
   "metadata": {},
   "outputs": [],
   "source": []
  },
  {
   "cell_type": "code",
   "execution_count": null,
   "id": "4d716e65",
   "metadata": {},
   "outputs": [],
   "source": []
  },
  {
   "cell_type": "code",
   "execution_count": null,
   "id": "0f76b2ea",
   "metadata": {},
   "outputs": [],
   "source": []
  },
  {
   "cell_type": "code",
   "execution_count": null,
   "id": "1134a8db",
   "metadata": {},
   "outputs": [],
   "source": []
  },
  {
   "cell_type": "markdown",
   "id": "42c78813",
   "metadata": {},
   "source": [
    "# Your Task"
   ]
  },
  {
   "cell_type": "markdown",
   "id": "c5769e4c",
   "metadata": {},
   "source": [
    "Above, I solve the equation $D D^{\\dagger} x = b$, but the 2003 paper solves $D x = b$. Therefore, the matrix you need to invert is below"
   ]
  },
  {
   "cell_type": "markdown",
   "id": "b0931bad",
   "metadata": {},
   "source": [
    "## Summary I wrote at the beginning of my master thesis:"
   ]
  },
  {
   "cell_type": "markdown",
   "id": "efeb22c2",
   "metadata": {},
   "source": [
    "Dirac Lagrangian on the lattice using Wilson fermions:\n",
    "\n",
    "$\\overline{\\psi}_x D_{xy}[U] \\psi_y = \\overline{\\psi}_x \\left[ (m+2) \\delta_{xy} -\\frac{1}{2}\\sum_{\\mu} \\left(\\Gamma_{+\\mu} U_\\mu(x) \\delta_{x+\\hat\\mu,y} + \\Gamma_{-\\mu} U^\\dagger_\\mu(x-\\hat\\mu) \\delta_{x-\\hat\\mu,y} \\right) \\right] \\psi_y$,\n",
    "\n",
    "Here $x$ is the vector (t,x)"
   ]
  },
  {
   "cell_type": "code",
   "execution_count": 30,
   "id": "efeb22c2",
   "metadata": {},
   "outputs": [],
   "source": [
    "m = -0.066\n",
    "A = mg.D_slash # This is D already built by me\n",
    "lattice_system = mg.calc # This contains all the information about the lattice than you need, but I am not sure if it's useful for you. My code is messy"
   ]
  },
  {
   "cell_type": "markdown",
   "id": "8f517ca0",
   "metadata": {},
   "source": [
    "where $\\hat\\mu$ is a unit vector pointing in direction $\\mu$ ( $\\mu$ = 0 is time direction and $\\mu$ = 1 is spatial direction), $U_\\mu(x)$ is the gauge link at site $x$ pointing at direction $\\mu$"
   ]
  },
  {
   "cell_type": "code",
   "execution_count": 31,
   "id": "c9451ebb",
   "metadata": {},
   "outputs": [],
   "source": [
    "gauge_links = gauge_links.reshape(Nt,Nx,nDim, Nc,Nc) # I generated this myself, and this is only one of them"
   ]
  },
  {
   "cell_type": "markdown",
   "id": "77c6b132",
   "metadata": {},
   "source": [
    "where $\\Gamma_{\\pm \\mu} = \\mathbb{1} \\mp \\gamma_\\mu$, $\\gamma_\\mu$ are the Dirac $\\gamma$-matrices. Note that the $\\Gamma$'s are $2 \\times 2$ matrices in 2 spacetime dimensions. Dirac and colour indices have been suppressed in the above formula for clarity. In our $2$-dimensional example, the $\\gamma$-matrices are of size $2 \\times 2$.\n",
    "One possible choice for them is $\\gamma_0=\\sigma_3$ and $\\gamma_1=\\sigma_1$."
   ]
  },
  {
   "cell_type": "code",
   "execution_count": 32,
   "id": "c193efbc",
   "metadata": {},
   "outputs": [],
   "source": [
    "# Pauli matrices\n",
    "Pauli = []\n",
    "Pauli.append(np.array([[0, 1], [1, 0]]))\n",
    "Pauli.append(np.array([[0,-1j], [1j, 0]]))\n",
    "Pauli.append(np.array([[1, 0], [0, -1]]))\n",
    "\n",
    "# Calculate Gamma above for different mu\n",
    "Id = np.identity(2)\n",
    "offdiagonal_spinor_x_plus = -0.5*(Id - Pauli[0])  \n",
    "offdiagonal_spinor_x_minus = -0.5*(Id + Pauli[0])\n",
    "offdiagonal_spinor_t_plus = -0.5*(Id - Pauli[2])\n",
    "offdiagonal_spinor_t_minus = -0.5*(Id + Pauli[2])"
   ]
  },
  {
   "cell_type": "code",
   "execution_count": null,
   "id": "a1664edf",
   "metadata": {},
   "outputs": [],
   "source": []
  },
  {
   "cell_type": "markdown",
   "id": "369e6c24",
   "metadata": {},
   "source": [
    "## Things that can be helpful to understand"
   ]
  },
  {
   "cell_type": "markdown",
   "id": "f3c1a131",
   "metadata": {},
   "source": [
    "#### Gauge links"
   ]
  },
  {
   "cell_type": "markdown",
   "id": "2e716ae6",
   "metadata": {},
   "source": [
    "They live between two lattice points. \n",
    "Indices:\n",
    "1. the position in the time of the starting lattice point\n",
    "2. the position in the space of the starting lattice point\n",
    "3. the direction to which it points, 0 is time direction, and 1 is space direction. \n",
    "\n",
    "4. and 5. the color indices, in this case, you only have one color\n",
    "\n",
    "\n",
    "Let's look at specfic point on the lattice. The following is a gauge link which starts from the lattice point 12,12 and points in the positive time direction"
   ]
  },
  {
   "cell_type": "code",
   "execution_count": 33,
   "id": "b48f98b3",
   "metadata": {},
   "outputs": [
    {
     "data": {
      "text/plain": [
       "array([[0.661764+0.749713j]])"
      ]
     },
     "execution_count": 33,
     "metadata": {},
     "output_type": "execute_result"
    }
   ],
   "source": [
    "nt = 12\n",
    "nx = 12\n",
    "mu = 0\n",
    "\n",
    "\n",
    "gauge_links[nt,nx, mu]  \n"
   ]
  },
  {
   "cell_type": "markdown",
   "id": "138029f3",
   "metadata": {},
   "source": [
    "The following is a gauge link which starts from the lattice point 6,8 and points in the positive space direction"
   ]
  },
  {
   "cell_type": "code",
   "execution_count": 34,
   "id": "0bfa3f89",
   "metadata": {},
   "outputs": [
    {
     "data": {
      "text/plain": [
       "array([[-0.138403+0.990376j]])"
      ]
     },
     "execution_count": 34,
     "metadata": {},
     "output_type": "execute_result"
    }
   ],
   "source": [
    "nt = 6\n",
    "nx = 8\n",
    "mu = 1\n",
    "gauge_links[nt,nx, mu] "
   ]
  },
  {
   "cell_type": "markdown",
   "id": "88a35442",
   "metadata": {},
   "source": [
    "#### One important property to know:"
   ]
  },
  {
   "cell_type": "markdown",
   "id": "2eca450c",
   "metadata": {},
   "source": [
    "$U_{-\\mu}(x) = U^\\dagger_\\mu(x-\\hat\\mu)$"
   ]
  },
  {
   "cell_type": "markdown",
   "id": "0d5f1224",
   "metadata": {},
   "source": [
    "The following is a gauge link which starts from the lattice point 11,15 and points in the negative temporal direction"
   ]
  },
  {
   "cell_type": "code",
   "execution_count": 35,
   "id": "14d38040",
   "metadata": {},
   "outputs": [
    {
     "data": {
      "text/plain": [
       "array([[0.974282+0.225332j]])"
      ]
     },
     "execution_count": 35,
     "metadata": {},
     "output_type": "execute_result"
    }
   ],
   "source": [
    "nt = 11\n",
    "nx = 15\n",
    "mu = 0\n",
    "np.conjugate(gauge_links[nt - 1,nx, mu]) # Note the minus in the temporal direction"
   ]
  },
  {
   "cell_type": "code",
   "execution_count": null,
   "id": "3c01368d",
   "metadata": {},
   "outputs": [],
   "source": []
  },
  {
   "cell_type": "markdown",
   "id": "9a23ee85",
   "metadata": {},
   "source": [
    "The following is a gauge link which starts from the lattice point 12,23 and points in the negative spatial direction"
   ]
  },
  {
   "cell_type": "code",
   "execution_count": 36,
   "id": "fe2bfa6a",
   "metadata": {},
   "outputs": [
    {
     "data": {
      "text/plain": [
       "array([[0.862493-0.506068j]])"
      ]
     },
     "execution_count": 36,
     "metadata": {},
     "output_type": "execute_result"
    }
   ],
   "source": [
    "nt = 12\n",
    "nx = 23\n",
    "mu = 1\n",
    "np.conjugate(gauge_links[nt,nx - 1, mu]) # Note the minus in the spatial direction"
   ]
  },
  {
   "cell_type": "code",
   "execution_count": null,
   "id": "30187cfe",
   "metadata": {},
   "outputs": [],
   "source": []
  },
  {
   "cell_type": "code",
   "execution_count": null,
   "id": "183077c5",
   "metadata": {},
   "outputs": [],
   "source": []
  },
  {
   "cell_type": "markdown",
   "id": "e6212cd7",
   "metadata": {},
   "source": [
    "## Precalculated entries of the Dirac Matrix (from my code)"
   ]
  },
  {
   "cell_type": "markdown",
   "id": "a43785c4",
   "metadata": {},
   "source": [
    "$\\Gamma_{+\\mu} U_\\mu(x)$ "
   ]
  },
  {
   "cell_type": "code",
   "execution_count": 37,
   "id": "ee23fe85",
   "metadata": {},
   "outputs": [],
   "source": [
    "offdiag_t_plus = lattice_system.offdiag_t_plus.reshape(Nt,Nx,Ns,Ns)\n",
    "offdiag_x_plus = lattice_system.offdiag_x_plus.reshape(Nt,Nx,Ns,Ns)"
   ]
  },
  {
   "cell_type": "code",
   "execution_count": 38,
   "id": "ee23fe85",
   "metadata": {},
   "outputs": [
    {
     "data": {
      "text/plain": [
       "(128, 128, 2, 2)"
      ]
     },
     "execution_count": 38,
     "metadata": {},
     "output_type": "execute_result"
    }
   ],
   "source": [
    "offdiag_t_plus.shape"
   ]
  },
  {
   "cell_type": "markdown",
   "id": "4f713ec0",
   "metadata": {},
   "source": [
    "(Nt,Nx,Ns,Ns)"
   ]
  },
  {
   "cell_type": "markdown",
   "id": "e7fc5e91",
   "metadata": {},
   "source": [
    "#### Example 1:"
   ]
  },
  {
   "cell_type": "code",
   "execution_count": 39,
   "id": "e7fc5e91",
   "metadata": {},
   "outputs": [
    {
     "data": {
      "text/plain": [
       "array([[-0.      +0.j      , -0.      +0.j      ],\n",
       "       [-0.      +0.j      , -0.661764-0.749713j]])"
      ]
     },
     "execution_count": 39,
     "metadata": {},
     "output_type": "execute_result"
    }
   ],
   "source": [
    "nt = 12\n",
    "nx = 12\n",
    "mu = 0 \n",
    "\n",
    "offdiag_t_plus[nt,nx]"
   ]
  },
  {
   "cell_type": "markdown",
   "id": "e6277f3b",
   "metadata": {},
   "source": [
    "So what you see above is $\\Gamma_{+t} U_t(t = 12, x = 12)$. Below you explicitly see this"
   ]
  },
  {
   "cell_type": "code",
   "execution_count": 40,
   "id": "e6277f3b",
   "metadata": {},
   "outputs": [
    {
     "data": {
      "text/plain": [
       "array([[-0.      +0.j      , -0.      +0.j      ],\n",
       "       [-0.      +0.j      , -0.661764-0.749713j]])"
      ]
     },
     "execution_count": 40,
     "metadata": {},
     "output_type": "execute_result"
    }
   ],
   "source": [
    "# Gamma acts on the spinor space and the gauge link on the color space, therefore you need to kron it. Here, Nc = 1, so it's basically a multiplication of Gamma and U'\n",
    "np.kron(offdiagonal_spinor_t_plus,gauge_links[nt,nx,mu,0,0]) "
   ]
  },
  {
   "cell_type": "markdown",
   "id": "87c4d833",
   "metadata": {},
   "source": [
    "#### Example 2:"
   ]
  },
  {
   "cell_type": "code",
   "execution_count": 41,
   "id": "87c4d833",
   "metadata": {},
   "outputs": [
    {
     "data": {
      "text/plain": [
       "array([[ 0.3770225+0.3284115j, -0.3770225-0.3284115j],\n",
       "       [-0.3770225-0.3284115j,  0.3770225+0.3284115j]])"
      ]
     },
     "execution_count": 41,
     "metadata": {},
     "output_type": "execute_result"
    }
   ],
   "source": [
    "nt = 12\n",
    "nx = 12\n",
    "mu = 1\n",
    "offdiag_x_plus[nt,nx]"
   ]
  },
  {
   "cell_type": "markdown",
   "id": "5353b524",
   "metadata": {},
   "source": [
    "So what you see above is $\\Gamma_{+x} U_x(t = 12, x = 12)$. Below you explicitly see this"
   ]
  },
  {
   "cell_type": "code",
   "execution_count": 42,
   "id": "5353b524",
   "metadata": {},
   "outputs": [
    {
     "data": {
      "text/plain": [
       "array([[ 0.3770225+0.3284115j, -0.3770225-0.3284115j],\n",
       "       [-0.3770225-0.3284115j,  0.3770225+0.3284115j]])"
      ]
     },
     "execution_count": 42,
     "metadata": {},
     "output_type": "execute_result"
    }
   ],
   "source": [
    "np.kron(offdiagonal_spinor_x_plus,gauge_links[nt,nx, 1 ,0,0])"
   ]
  },
  {
   "cell_type": "code",
   "execution_count": null,
   "id": "ffcbeb38",
   "metadata": {},
   "outputs": [],
   "source": []
  },
  {
   "cell_type": "markdown",
   "id": "3dc9ddbc",
   "metadata": {},
   "source": [
    "$\\Gamma_{-\\mu} U^\\dagger_\\mu(x-\\hat\\mu)$"
   ]
  },
  {
   "cell_type": "code",
   "execution_count": 43,
   "id": "3dc9ddbc",
   "metadata": {},
   "outputs": [],
   "source": [
    "offdiag_t_minus = lattice_system.offdiag_t_minus.reshape(Nt,Nx,Ns,Ns)\n",
    "offdiag_x_minus = lattice_system.offdiag_x_minus.reshape(Nt,Nx,Ns,Ns)"
   ]
  },
  {
   "cell_type": "markdown",
   "id": "5e7b9b8a",
   "metadata": {},
   "source": [
    "#### Example 3:"
   ]
  },
  {
   "cell_type": "code",
   "execution_count": 44,
   "id": "7ece6e26",
   "metadata": {},
   "outputs": [
    {
     "data": {
      "text/plain": [
       "array([[-0.98083+0.194867j,  0.     +0.j      ],\n",
       "       [ 0.     +0.j      ,  0.     +0.j      ]])"
      ]
     },
     "execution_count": 44,
     "metadata": {},
     "output_type": "execute_result"
    }
   ],
   "source": [
    "nt = 12\n",
    "nx = 12\n",
    "mu = 0 \n",
    "\n",
    "offdiag_t_minus[nt,nx]"
   ]
  },
  {
   "cell_type": "markdown",
   "id": "f22bf032",
   "metadata": {},
   "source": [
    "So what you see above is $\\Gamma_{-t} U^\\dagger_{-t}( t = 12-1, x = 12)$. Below you explicitly see this"
   ]
  },
  {
   "cell_type": "code",
   "execution_count": 45,
   "id": "0d4ba2ae",
   "metadata": {},
   "outputs": [
    {
     "data": {
      "text/plain": [
       "array([[-0.98083+0.194867j,  0.     +0.j      ],\n",
       "       [ 0.     +0.j      ,  0.     +0.j      ]])"
      ]
     },
     "execution_count": 45,
     "metadata": {},
     "output_type": "execute_result"
    }
   ],
   "source": [
    "np.kron(offdiagonal_spinor_t_minus,np.conjugate(gauge_links[nt - 1,nx,mu,0,0]))"
   ]
  },
  {
   "cell_type": "markdown",
   "id": "e5d30198",
   "metadata": {},
   "source": [
    "#### Example 4:"
   ]
  },
  {
   "cell_type": "code",
   "execution_count": 46,
   "id": "fc33a203",
   "metadata": {},
   "outputs": [
    {
     "data": {
      "text/plain": [
       "array([[0.151359+0.47654j, 0.151359+0.47654j],\n",
       "       [0.151359+0.47654j, 0.151359+0.47654j]])"
      ]
     },
     "execution_count": 46,
     "metadata": {},
     "output_type": "execute_result"
    }
   ],
   "source": [
    "nt = 12\n",
    "nx = 12\n",
    "mu = 1\n",
    "\n",
    "\n",
    "offdiag_x_minus[nt,nx]"
   ]
  },
  {
   "cell_type": "markdown",
   "id": "e493bf7c",
   "metadata": {},
   "source": [
    "So what you see above is $\\Gamma_{-x} U^\\dagger_{-x}( t = 12, x = 12 - 1)$. Below you explicitly see this"
   ]
  },
  {
   "cell_type": "code",
   "execution_count": 47,
   "id": "994ac0bd",
   "metadata": {},
   "outputs": [
    {
     "data": {
      "text/plain": [
       "array([[0.151359+0.47654j, 0.151359+0.47654j],\n",
       "       [0.151359+0.47654j, 0.151359+0.47654j]])"
      ]
     },
     "execution_count": 47,
     "metadata": {},
     "output_type": "execute_result"
    }
   ],
   "source": [
    "np.kron(offdiagonal_spinor_x_minus,np.conjugate(gauge_links[nt,nx - 1, mu ,0,0]))"
   ]
  },
  {
   "cell_type": "code",
   "execution_count": null,
   "id": "d872b8b8",
   "metadata": {},
   "outputs": [],
   "source": []
  },
  {
   "cell_type": "markdown",
   "id": "176d2ab4",
   "metadata": {},
   "source": [
    "## Task 1:"
   ]
  },
  {
   "cell_type": "markdown",
   "id": "6946d6fc",
   "metadata": {},
   "source": [
    "Rebuild the original dirac matrix using the objects given above without looking at my code.\n",
    "\n",
    "You can choose to use or not use my precomputed objects\n",
    "\n",
    "\n",
    "(Do not forget antiperiodic boundaries in the temporal direction. This applies to the fermions)"
   ]
  },
  {
   "cell_type": "code",
   "execution_count": 48,
   "id": "82832b19",
   "metadata": {},
   "outputs": [],
   "source": [
    "np.random.seed(0)\n",
    "b = np.random.randn(Nt*Nx*Ns) + 1j*np.random.randn(Nt*Nx*Ns) # A random vector as the pseudofermion field"
   ]
  },
  {
   "cell_type": "code",
   "execution_count": 49,
   "id": "23fddb6a",
   "metadata": {},
   "outputs": [
    {
     "data": {
      "text/plain": [
       "array([ 3.42156492-2.99133457j,  4.77469303-3.42100349j,\n",
       "       -2.38651842+1.14091977j, ...,  2.20167098-1.43554759j,\n",
       "        1.51971237+1.19184527j, -3.64688596-1.06124401j])"
      ]
     },
     "execution_count": 49,
     "metadata": {},
     "output_type": "execute_result"
    }
   ],
   "source": [
    "A.dot(b)"
   ]
  },
  {
   "cell_type": "code",
   "execution_count": 50,
   "id": "e37fb128",
   "metadata": {},
   "outputs": [],
   "source": [
    "# ----------- INSERT YOUR CODE HERE -------------------------------------------------\n",
    "# Build the dirac matrix  D or a function which applies the dirac matrix to a pseudofermion field\n",
    "# It should give you the same result as above\n",
    "# np.linalg.norm(D.dot(b) - A.dot(b)) should be around 0\n",
    "\n"
   ]
  },
  {
   "cell_type": "code",
   "execution_count": null,
   "id": "2534ba95",
   "metadata": {},
   "outputs": [],
   "source": []
  },
  {
   "cell_type": "code",
   "execution_count": null,
   "id": "4d127832",
   "metadata": {},
   "outputs": [],
   "source": []
  },
  {
   "cell_type": "code",
   "execution_count": null,
   "id": "d7437ec8",
   "metadata": {},
   "outputs": [],
   "source": []
  },
  {
   "cell_type": "code",
   "execution_count": null,
   "id": "fc9bae4e",
   "metadata": {},
   "outputs": [],
   "source": []
  }
 ],
 "metadata": {
  "kernelspec": {
   "display_name": "multigrid",
   "language": "python",
   "name": "python3"
  },
  "language_info": {
   "codemirror_mode": {
    "name": "ipython",
    "version": 3
   },
   "file_extension": ".py",
   "mimetype": "text/x-python",
   "name": "python",
   "nbconvert_exporter": "python",
   "pygments_lexer": "ipython3",
   "version": "3.13.0"
  }
 },
 "nbformat": 4,
 "nbformat_minor": 5
}
